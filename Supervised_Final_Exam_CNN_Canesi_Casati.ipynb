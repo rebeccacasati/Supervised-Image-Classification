{
  "cells": [
    {
      "cell_type": "markdown",
      "metadata": {
        "id": "yVyzyuw1KHpE"
      },
      "source": [
        "# **Exam Project Supervised Learning** - June 2023 - Canesi Gabriele, Casati Rebecca\n",
        "\n",
        "\n",
        "\n"
      ]
    },
    {
      "cell_type": "markdown",
      "metadata": {
        "id": "HhqzZLitCLJf"
      },
      "source": [
        "## **Classification with CNN**"
      ]
    },
    {
      "cell_type": "markdown",
      "metadata": {
        "id": "lMQmoXlIwTjC"
      },
      "source": [
        "### Training or not?\n",
        "\n"
      ]
    },
    {
      "cell_type": "markdown",
      "metadata": {
        "id": "OChHTHK0vsxJ"
      },
      "source": [
        "IMPORTANT: The code as it is will **not** perform the training of the net, it will download by itself the previously saved learned model and proceed with the evaluation.\n",
        "\n",
        "On the contrary, if the user wants to perform the training, the value of the variable \"Training\" must be changed and set equal to \"True\", instead of \"False\"."
      ]
    },
    {
      "cell_type": "code",
      "execution_count": 37,
      "metadata": {
        "id": "X2HkB0BpvoXU"
      },
      "outputs": [],
      "source": [
        "Training = False"
      ]
    },
    {
      "cell_type": "markdown",
      "metadata": {
        "id": "XWHcv4CGtgzH"
      },
      "source": [
        "### Preliminary\n",
        "All the necessary imports and libraries are here:"
      ]
    },
    {
      "cell_type": "code",
      "execution_count": 38,
      "metadata": {
        "id": "S4ZhoQ3vuPI_"
      },
      "outputs": [],
      "source": [
        "import torch\n",
        "import torch.optim as optim\n",
        "import torch.nn as nn\n",
        "import torch.nn.functional as F\n",
        "import torchvision\n",
        "import pandas as pd\n",
        "import numpy as np\n",
        "import matplotlib.pyplot as plt\n",
        "import scipy \n",
        "import glob\n",
        "import os\n",
        "import pickle \n",
        "import itertools\n",
        "import io\n",
        "import torchvision.transforms as transforms\n",
        "\n",
        "from sklearn.model_selection import train_test_split\n",
        "from torch.utils.data import Dataset, DataLoader\n",
        "from torchvision import transforms, utils\n",
        "from PIL import Image\n",
        "from torch.optim.lr_scheduler import CosineAnnealingLR\n",
        "from sklearn.metrics import confusion_matrix"
      ]
    },
    {
      "cell_type": "markdown",
      "metadata": {
        "id": "t2Qri_xs9t7S"
      },
      "source": [
        "To use the GPU:"
      ]
    },
    {
      "cell_type": "code",
      "execution_count": 39,
      "metadata": {
        "colab": {
          "base_uri": "https://localhost:8080/"
        },
        "id": "lK_LLGpEKVkr",
        "outputId": "b3a34e70-9ac1-4c29-f1bd-4557f3b70de3"
      },
      "outputs": [
        {
          "output_type": "stream",
          "name": "stdout",
          "text": [
            "CUDA is available!  Training on GPU ...\n",
            "cuda:0\n"
          ]
        }
      ],
      "source": [
        "train_on_gpu = torch.cuda.is_available()\n",
        "if not train_on_gpu:\n",
        "    print('CUDA is not available.  Training on CPU ...')\n",
        "else:\n",
        "    print('CUDA is available!  Training on GPU ...')\n",
        "DEVICE = torch.device(\"cuda:0\" if train_on_gpu else \"cpu\")\n",
        "print(DEVICE)"
      ]
    },
    {
      "cell_type": "markdown",
      "source": [
        "Utility functions (needed to compute the accuracy and plot the confusion matrix):"
      ],
      "metadata": {
        "id": "uZ9Mz0Pc1S5p"
      }
    },
    {
      "cell_type": "code",
      "execution_count": 40,
      "metadata": {
        "id": "tN7lHTgf1SDW"
      },
      "outputs": [],
      "source": [
        "# TOTAL ACCURACY\n",
        "def compute_accuracy(confusion_matrix):\n",
        "    # sum of the elements on the diagonal (trace of the matrix) (= correct predictions)\n",
        "    diagonal_sum = np.trace(confusion_matrix)\n",
        "    # sum of all the elements (= total predictions)\n",
        "    total_sum = np.sum(confusion_matrix)\n",
        "    # accuracy = correct predictions / all the predictions\n",
        "    accuracy = diagonal_sum / total_sum\n",
        "    return accuracy\n",
        "\n",
        "# PLOT CONFUSION MATRIX\n",
        "# second argument is a list of the class labels, to plot on the y and x axis of the matrix\n",
        "def plot_confusionmatrix(confusion_mat, class_labels):\n",
        "    fig5, ax = plt.subplots()\n",
        "\n",
        "    # Create the heatmap\n",
        "    heatmap = ax.imshow(confusion_mat, cmap='Blues')\n",
        "\n",
        "    # Set the x-axis and y-axis labels \n",
        "    ax.set_xticks(range(0,100, 4))\n",
        "    ax.set_yticks(range(0,100, 4))\n",
        "\n",
        "    # Rotate the x-axis labels\n",
        "    plt.setp(ax.get_xticklabels(), rotation=90, ha=\"right\", rotation_mode=\"anchor\")\n",
        "\n",
        "    # Add colorbar\n",
        "    cbar = plt.colorbar(heatmap)\n",
        "\n",
        "    # Set the title and axis labels\n",
        "    ax.set_title('Confusion Matrix Heatmap')\n",
        "    ax.set_xlabel('Predicted Classes')\n",
        "    ax.set_ylabel('Actual Classes')\n",
        "    \n",
        "    # Show the plot\n",
        "    plt.tight_layout()\n",
        "    plt.savefig(\"Confusion_matrix.png\")"
      ]
    },
    {
      "cell_type": "markdown",
      "metadata": {
        "id": "1c9dVrgEKDLI"
      },
      "source": [
        "### Import Dataset"
      ]
    },
    {
      "cell_type": "markdown",
      "metadata": {
        "id": "cSShdx8e9xZY"
      },
      "source": [
        "Import and unzip the dataset:"
      ]
    },
    {
      "cell_type": "code",
      "execution_count": 41,
      "metadata": {
        "colab": {
          "base_uri": "https://localhost:8080/"
        },
        "id": "sCLDaZ9Z_3n8",
        "outputId": "7fe16b37-fe13-413e-f1b0-5d047cc29742"
      },
      "outputs": [
        {
          "output_type": "stream",
          "name": "stdout",
          "text": [
            "Downloading...\n",
            "From: https://drive.google.com/uc?id=1wYs0vMlE7KuY5eABPCVRhgDpHEC8EviR\n",
            "To: /content/TinyImageNet.zip\n",
            "100% 483M/483M [00:06<00:00, 77.5MB/s]\n"
          ]
        }
      ],
      "source": [
        "!gdown \"1wYs0vMlE7KuY5eABPCVRhgDpHEC8EviR\"\n",
        "!unzip -q -n \"/content/TinyImageNet.zip\" -d data "
      ]
    },
    {
      "cell_type": "markdown",
      "metadata": {
        "id": "RQWt9WSv-Prk"
      },
      "source": [
        "### Inspection of the data"
      ]
    },
    {
      "cell_type": "markdown",
      "metadata": {
        "id": "zj60hikdV8hF"
      },
      "source": [
        "Check in what color system are coded the images (they are all RGB):"
      ]
    },
    {
      "cell_type": "code",
      "execution_count": 42,
      "metadata": {
        "colab": {
          "base_uri": "https://localhost:8080/"
        },
        "id": "ySjydzAfS1mK",
        "outputId": "e7493967-fcf6-4eda-d0e1-984588758ef9"
      },
      "outputs": [
        {
          "output_type": "stream",
          "name": "stdout",
          "text": [
            "Number of gray images in train: 0\n",
            "Number of gray images in val: 0\n",
            "Number of RGB images in train: 100000\n",
            "Number of RGB images in val: 10000\n",
            "Number of RGBA images in train: 0\n",
            "Number of RGBA images in val: 0\n",
            "Number of BGR or other images in train: 0\n",
            "Number of BGR or other images in val: 0\n"
          ]
        }
      ],
      "source": [
        "# TRAIN SET\n",
        "lst = glob.glob(\"/content/data/TinyImageNet/train/*/*.jpg\")\n",
        "\n",
        "# number of gray images in the train (train/val)\n",
        "num_gray_train = 0\n",
        "# number of RGB images in the train (train/val)\n",
        "rgb_train = 0\n",
        "# number of RGBA images in the train (train/val)\n",
        "rgba_train = 0\n",
        "# number of BGR (or other) images in the train (train/val)\n",
        "bgr_train = 0\n",
        "\n",
        "for pt in lst:\n",
        "  im=Image.open(pt)\n",
        "  bands = im.getbands()\n",
        "  #print(bands)\n",
        "  # increase the total number of gray images by one\n",
        "  if len(bands) < 3:\n",
        "    num_gray_train += 1\n",
        "  # increase the total number of RGB images by one\n",
        "  if im.mode == 'RGB':\n",
        "    rgb_train += 1\n",
        "  # increase the total number of RGBA images by one\n",
        "  elif im.mode == 'RGBA':\n",
        "    rgba_train += 1\n",
        "  # increase the total number of BGR images by one\n",
        "  else:\n",
        "    bgr_train += 1\n",
        "\n",
        "\n",
        "# VAL SET\n",
        "lst = glob.glob(\"/content/data/TinyImageNet/val/*/*.jpg\")\n",
        "\n",
        "# number of gray images in the val (test)\n",
        "num_gray_val = 0\n",
        "# number of RGB images in the val (test)\n",
        "rgb_val = 0\n",
        "# number of RGBA images in the val (test)\n",
        "rgba_val = 0\n",
        "# number of BGR images in the val (test)\n",
        "bgr_val = 0\n",
        "\n",
        "for pt in lst:\n",
        "  im=Image.open(pt)\n",
        "  bands = im.getbands()\n",
        "  if len(bands) < 3 :\n",
        "    num_gray_train += 1\n",
        "  if im.mode == 'RGB':\n",
        "    rgb_val += 1\n",
        "  elif im.mode == 'RGBA':\n",
        "    rgba_val += 1\n",
        "  else:\n",
        "    bgr_val += 1\n",
        "\n",
        "# print the results\n",
        "# total number of gray images\n",
        "print(\"Number of gray images in train:\", num_gray_train)\n",
        "print(\"Number of gray images in val:\", num_gray_val)\n",
        "# total number of RGB images\n",
        "print(\"Number of RGB images in train:\", rgb_train)\n",
        "print(\"Number of RGB images in val:\", rgb_val)\n",
        "# total number of RGBA images\n",
        "print(\"Number of RGBA images in train:\", rgba_train)\n",
        "print(\"Number of RGBA images in val:\", rgba_val)\n",
        "# total number of BGR images\n",
        "print(\"Number of BGR or other images in train:\", bgr_train)\n",
        "print(\"Number of BGR or other images in val:\", bgr_val)"
      ]
    },
    {
      "cell_type": "markdown",
      "metadata": {
        "id": "RdgxsCkbtrmX"
      },
      "source": [
        "### Load the dataset"
      ]
    },
    {
      "cell_type": "markdown",
      "metadata": {
        "id": "9HNBZyDfoJfR"
      },
      "source": [
        "Read and convert the data into Pandas Dataframe (we load only the train and validation file since the train data will be divided into train and validation, while the validation data will be used as test):\n",
        "\n"
      ]
    },
    {
      "cell_type": "code",
      "execution_count": 43,
      "metadata": {
        "id": "j4d8wLLPoKLG"
      },
      "outputs": [],
      "source": [
        "# read and convert into pandas dataframe\n",
        "# train (saved as train and val)\n",
        "df_train_val = pd.read_csv(\"/content/data/TinyImageNet/train.txt\", sep = \" \", header = None)\n",
        "# val (saved as test)\n",
        "df_test = pd.read_csv(\"/content/data/TinyImageNet/val.txt\", sep = \" \", header = None)\n",
        "\n",
        "# rename the columns\n",
        "df_train_val.columns = [\"image\", \"label\"]\n",
        "df_test.columns = [\"image\", \"label\"]"
      ]
    },
    {
      "cell_type": "markdown",
      "metadata": {
        "id": "psoVsUZmSpYZ"
      },
      "source": [
        "Dataloader (documentation: [my dataloader](https://pytorch.org/tutorials/beginner/data_loading_tutorial.html#dataset-class)):"
      ]
    },
    {
      "cell_type": "code",
      "execution_count": 44,
      "metadata": {
        "id": "8JAnWr6T0d8r"
      },
      "outputs": [],
      "source": [
        "class TinyImageNetDataset(Dataset):\n",
        "    \"\"\"TinyImageNet dataset.\"\"\"\n",
        "\n",
        "    def __init__(self, ndarray, root_dir, transform = None):\n",
        "        \"\"\"\n",
        "        Arguments:\n",
        "            root_dir (string): Directory with all the images.\n",
        "            transform (callable, optional): Optional transform to be applied\n",
        "                on a sample.\n",
        "        \"\"\"\n",
        "        self.data = ndarray\n",
        "        # path\n",
        "        self.root_dir = root_dir\n",
        "        self.transform = transform\n",
        "\n",
        "    def __len__(self):\n",
        "        return len(self.data)\n",
        "\n",
        "    def __getitem__(self, idx):\n",
        "        img_name, label = self.data[idx]\n",
        "        # open the image (PIL)\n",
        "        image = Image.open(os.path.join(self.root_dir, img_name))\n",
        "        # apply the transformations to the image\n",
        "        image = self.transform(image)\n",
        "\n",
        "        # the function returns a dictionary\n",
        "        sample = {'image': image, 'label': torch.tensor(label)}\n",
        "        return sample"
      ]
    },
    {
      "cell_type": "markdown",
      "source": [
        "Split the train set between training (80%) and validation (20%) with stratified sampling:"
      ],
      "metadata": {
        "id": "4HsIPwf4djKZ"
      }
    },
    {
      "cell_type": "code",
      "source": [
        "# initialize two empty pandas dataframe\n",
        "df_train = pd.DataFrame()\n",
        "df_val = pd.DataFrame()\n",
        "\n",
        "# Proportional Split\n",
        "# iteration over all the images of train set, with a step of 1000\n",
        "# to get batches of 1000 elements (single class of the train set)\n",
        "for i in range(0,100000,1000):\n",
        "  # dataframe of the single class i (1000 images)\n",
        "  df_class = df_train_val.loc[i:(i+999)]\n",
        "  # random shuffle of the rows of the dataframe of the class i\n",
        "  df_class = df_class.sample(frac=1).reset_index(drop=True)\n",
        "  # split each class in two dataframes, one for train and one for validation\n",
        "  train_df, val_df = train_test_split(df_class, test_size=0.2, random_state=42)\n",
        "  # add the train and validation dataframe at the dataframes of the other classes\n",
        "  df_train = pd.concat([df_train,train_df])\n",
        "  df_val = pd.concat([df_val, val_df])\n",
        "\n",
        "# Shuffle the new dataset\n",
        "df_train = df_train.sample(frac=1).reset_index(drop=True)\n",
        "df_val = df_val.sample(frac=1).reset_index(drop=True)\n",
        "\n",
        "# transformation to numpy array\n",
        "df_train = df_train.to_numpy()\n",
        "df_val = df_val.to_numpy()"
      ],
      "metadata": {
        "id": "vctjgIXcO0Bd"
      },
      "execution_count": 45,
      "outputs": []
    },
    {
      "cell_type": "markdown",
      "source": [
        "Shuffle also the test set:"
      ],
      "metadata": {
        "id": "eKrfmBaOe6BR"
      }
    },
    {
      "cell_type": "code",
      "source": [
        "df_test = df_test.sample(frac=1).reset_index(drop=True)\n",
        "\n",
        "# transformation to numpy array\n",
        "df_test = df_test.to_numpy()"
      ],
      "metadata": {
        "id": "MdZNRfi6exQR"
      },
      "execution_count": 46,
      "outputs": []
    },
    {
      "cell_type": "markdown",
      "metadata": {
        "id": "T739yYSvuCCA"
      },
      "source": [
        "Transformations to the data, to pass to the dataloader:"
      ]
    },
    {
      "cell_type": "code",
      "execution_count": 47,
      "metadata": {
        "id": "BTUqpTcQt8yq"
      },
      "outputs": [],
      "source": [
        "# ONLY ONE TRANSFORMATION FOR TRAIN, VAL AND TEST\n",
        "transform = transforms.Compose([            \n",
        "    transforms.Resize((232, 232)),\n",
        "    transforms.CenterCrop((224, 224)),                   \n",
        "    transforms.ToTensor(),                     \n",
        "    transforms.Normalize(                     \n",
        "    mean=[0.485, 0.456, 0.406],               \n",
        "    std=[0.229, 0.224, 0.225]                 \n",
        " )])"
      ]
    },
    {
      "cell_type": "markdown",
      "source": [
        "Create the train, validation and test set:"
      ],
      "metadata": {
        "id": "dAYLyVeWrgM3"
      }
    },
    {
      "cell_type": "code",
      "source": [
        "trainset = TinyImageNetDataset(df_train, \"/content/data/TinyImageNet\", transform)\n",
        "valset = TinyImageNetDataset(df_val, \"/content/data/TinyImageNet\", transform)\n",
        "testset = TinyImageNetDataset(df_test, \"/content/data/TinyImageNet\", transform)"
      ],
      "metadata": {
        "id": "g4OwuwORrgM5"
      },
      "execution_count": 48,
      "outputs": []
    },
    {
      "cell_type": "markdown",
      "source": [
        "Create the dataloader for training, validation and test set:"
      ],
      "metadata": {
        "id": "hPTWmKRHe4cS"
      }
    },
    {
      "cell_type": "code",
      "source": [
        "# batch size\n",
        "bs = 16\n",
        "\n",
        "trainloader = DataLoader(trainset, batch_size= bs, shuffle=True, num_workers = 0)\n",
        "valloader = DataLoader(valset, batch_size= bs, shuffle=True, num_workers = 0)\n",
        "testloader = DataLoader(testset, batch_size= 1, shuffle=False, num_workers = 0)"
      ],
      "metadata": {
        "id": "LCnR9xyTeehE"
      },
      "execution_count": 49,
      "outputs": []
    },
    {
      "cell_type": "code",
      "source": [
        "print(len(trainloader) * bs, len(valloader) * bs, len(testloader) * 1)"
      ],
      "metadata": {
        "colab": {
          "base_uri": "https://localhost:8080/"
        },
        "id": "i1EAzjbOebtZ",
        "outputId": "316b1a4f-089d-47d2-e05a-f8c907f3d55f"
      },
      "execution_count": 50,
      "outputs": [
        {
          "output_type": "stream",
          "name": "stdout",
          "text": [
            "80000 20000 10000\n"
          ]
        }
      ]
    },
    {
      "cell_type": "markdown",
      "metadata": {
        "id": "GassShpc-oaB"
      },
      "source": [
        "### Model"
      ]
    },
    {
      "cell_type": "markdown",
      "metadata": {
        "id": "bT7ZaK8P7OLT"
      },
      "source": [
        "Define the NN ([Models: pre-trained classification weights](https://pytorch.org/vision/main/models.html)):"
      ]
    },
    {
      "cell_type": "code",
      "execution_count": 51,
      "metadata": {
        "colab": {
          "base_uri": "https://localhost:8080/"
        },
        "id": "tuoLKmDCScY7",
        "outputId": "9cc58063-65d2-4bfd-df32-6e43a48ebf99"
      },
      "outputs": [
        {
          "output_type": "stream",
          "name": "stdout",
          "text": [
            "RegNet(\n",
            "  (stem): SimpleStemIN(\n",
            "    (0): Conv2d(3, 32, kernel_size=(3, 3), stride=(2, 2), padding=(1, 1), bias=False)\n",
            "    (1): BatchNorm2d(32, eps=1e-05, momentum=0.1, affine=True, track_running_stats=True)\n",
            "    (2): ReLU(inplace=True)\n",
            "  )\n",
            "  (trunk_output): Sequential(\n",
            "    (block1): AnyStage(\n",
            "      (block1-0): ResBottleneckBlock(\n",
            "        (proj): Conv2dNormActivation(\n",
            "          (0): Conv2d(32, 72, kernel_size=(1, 1), stride=(2, 2), bias=False)\n",
            "          (1): BatchNorm2d(72, eps=1e-05, momentum=0.1, affine=True, track_running_stats=True)\n",
            "        )\n",
            "        (f): BottleneckTransform(\n",
            "          (a): Conv2dNormActivation(\n",
            "            (0): Conv2d(32, 72, kernel_size=(1, 1), stride=(1, 1), bias=False)\n",
            "            (1): BatchNorm2d(72, eps=1e-05, momentum=0.1, affine=True, track_running_stats=True)\n",
            "            (2): ReLU(inplace=True)\n",
            "          )\n",
            "          (b): Conv2dNormActivation(\n",
            "            (0): Conv2d(72, 72, kernel_size=(3, 3), stride=(2, 2), padding=(1, 1), groups=3, bias=False)\n",
            "            (1): BatchNorm2d(72, eps=1e-05, momentum=0.1, affine=True, track_running_stats=True)\n",
            "            (2): ReLU(inplace=True)\n",
            "          )\n",
            "          (c): Conv2dNormActivation(\n",
            "            (0): Conv2d(72, 72, kernel_size=(1, 1), stride=(1, 1), bias=False)\n",
            "            (1): BatchNorm2d(72, eps=1e-05, momentum=0.1, affine=True, track_running_stats=True)\n",
            "          )\n",
            "        )\n",
            "        (activation): ReLU(inplace=True)\n",
            "      )\n",
            "      (block1-1): ResBottleneckBlock(\n",
            "        (f): BottleneckTransform(\n",
            "          (a): Conv2dNormActivation(\n",
            "            (0): Conv2d(72, 72, kernel_size=(1, 1), stride=(1, 1), bias=False)\n",
            "            (1): BatchNorm2d(72, eps=1e-05, momentum=0.1, affine=True, track_running_stats=True)\n",
            "            (2): ReLU(inplace=True)\n",
            "          )\n",
            "          (b): Conv2dNormActivation(\n",
            "            (0): Conv2d(72, 72, kernel_size=(3, 3), stride=(1, 1), padding=(1, 1), groups=3, bias=False)\n",
            "            (1): BatchNorm2d(72, eps=1e-05, momentum=0.1, affine=True, track_running_stats=True)\n",
            "            (2): ReLU(inplace=True)\n",
            "          )\n",
            "          (c): Conv2dNormActivation(\n",
            "            (0): Conv2d(72, 72, kernel_size=(1, 1), stride=(1, 1), bias=False)\n",
            "            (1): BatchNorm2d(72, eps=1e-05, momentum=0.1, affine=True, track_running_stats=True)\n",
            "          )\n",
            "        )\n",
            "        (activation): ReLU(inplace=True)\n",
            "      )\n",
            "    )\n",
            "    (block2): AnyStage(\n",
            "      (block2-0): ResBottleneckBlock(\n",
            "        (proj): Conv2dNormActivation(\n",
            "          (0): Conv2d(72, 168, kernel_size=(1, 1), stride=(2, 2), bias=False)\n",
            "          (1): BatchNorm2d(168, eps=1e-05, momentum=0.1, affine=True, track_running_stats=True)\n",
            "        )\n",
            "        (f): BottleneckTransform(\n",
            "          (a): Conv2dNormActivation(\n",
            "            (0): Conv2d(72, 168, kernel_size=(1, 1), stride=(1, 1), bias=False)\n",
            "            (1): BatchNorm2d(168, eps=1e-05, momentum=0.1, affine=True, track_running_stats=True)\n",
            "            (2): ReLU(inplace=True)\n",
            "          )\n",
            "          (b): Conv2dNormActivation(\n",
            "            (0): Conv2d(168, 168, kernel_size=(3, 3), stride=(2, 2), padding=(1, 1), groups=7, bias=False)\n",
            "            (1): BatchNorm2d(168, eps=1e-05, momentum=0.1, affine=True, track_running_stats=True)\n",
            "            (2): ReLU(inplace=True)\n",
            "          )\n",
            "          (c): Conv2dNormActivation(\n",
            "            (0): Conv2d(168, 168, kernel_size=(1, 1), stride=(1, 1), bias=False)\n",
            "            (1): BatchNorm2d(168, eps=1e-05, momentum=0.1, affine=True, track_running_stats=True)\n",
            "          )\n",
            "        )\n",
            "        (activation): ReLU(inplace=True)\n",
            "      )\n",
            "      (block2-1): ResBottleneckBlock(\n",
            "        (f): BottleneckTransform(\n",
            "          (a): Conv2dNormActivation(\n",
            "            (0): Conv2d(168, 168, kernel_size=(1, 1), stride=(1, 1), bias=False)\n",
            "            (1): BatchNorm2d(168, eps=1e-05, momentum=0.1, affine=True, track_running_stats=True)\n",
            "            (2): ReLU(inplace=True)\n",
            "          )\n",
            "          (b): Conv2dNormActivation(\n",
            "            (0): Conv2d(168, 168, kernel_size=(3, 3), stride=(1, 1), padding=(1, 1), groups=7, bias=False)\n",
            "            (1): BatchNorm2d(168, eps=1e-05, momentum=0.1, affine=True, track_running_stats=True)\n",
            "            (2): ReLU(inplace=True)\n",
            "          )\n",
            "          (c): Conv2dNormActivation(\n",
            "            (0): Conv2d(168, 168, kernel_size=(1, 1), stride=(1, 1), bias=False)\n",
            "            (1): BatchNorm2d(168, eps=1e-05, momentum=0.1, affine=True, track_running_stats=True)\n",
            "          )\n",
            "        )\n",
            "        (activation): ReLU(inplace=True)\n",
            "      )\n",
            "      (block2-2): ResBottleneckBlock(\n",
            "        (f): BottleneckTransform(\n",
            "          (a): Conv2dNormActivation(\n",
            "            (0): Conv2d(168, 168, kernel_size=(1, 1), stride=(1, 1), bias=False)\n",
            "            (1): BatchNorm2d(168, eps=1e-05, momentum=0.1, affine=True, track_running_stats=True)\n",
            "            (2): ReLU(inplace=True)\n",
            "          )\n",
            "          (b): Conv2dNormActivation(\n",
            "            (0): Conv2d(168, 168, kernel_size=(3, 3), stride=(1, 1), padding=(1, 1), groups=7, bias=False)\n",
            "            (1): BatchNorm2d(168, eps=1e-05, momentum=0.1, affine=True, track_running_stats=True)\n",
            "            (2): ReLU(inplace=True)\n",
            "          )\n",
            "          (c): Conv2dNormActivation(\n",
            "            (0): Conv2d(168, 168, kernel_size=(1, 1), stride=(1, 1), bias=False)\n",
            "            (1): BatchNorm2d(168, eps=1e-05, momentum=0.1, affine=True, track_running_stats=True)\n",
            "          )\n",
            "        )\n",
            "        (activation): ReLU(inplace=True)\n",
            "      )\n",
            "      (block2-3): ResBottleneckBlock(\n",
            "        (f): BottleneckTransform(\n",
            "          (a): Conv2dNormActivation(\n",
            "            (0): Conv2d(168, 168, kernel_size=(1, 1), stride=(1, 1), bias=False)\n",
            "            (1): BatchNorm2d(168, eps=1e-05, momentum=0.1, affine=True, track_running_stats=True)\n",
            "            (2): ReLU(inplace=True)\n",
            "          )\n",
            "          (b): Conv2dNormActivation(\n",
            "            (0): Conv2d(168, 168, kernel_size=(3, 3), stride=(1, 1), padding=(1, 1), groups=7, bias=False)\n",
            "            (1): BatchNorm2d(168, eps=1e-05, momentum=0.1, affine=True, track_running_stats=True)\n",
            "            (2): ReLU(inplace=True)\n",
            "          )\n",
            "          (c): Conv2dNormActivation(\n",
            "            (0): Conv2d(168, 168, kernel_size=(1, 1), stride=(1, 1), bias=False)\n",
            "            (1): BatchNorm2d(168, eps=1e-05, momentum=0.1, affine=True, track_running_stats=True)\n",
            "          )\n",
            "        )\n",
            "        (activation): ReLU(inplace=True)\n",
            "      )\n",
            "    )\n",
            "    (block3): AnyStage(\n",
            "      (block3-0): ResBottleneckBlock(\n",
            "        (proj): Conv2dNormActivation(\n",
            "          (0): Conv2d(168, 408, kernel_size=(1, 1), stride=(2, 2), bias=False)\n",
            "          (1): BatchNorm2d(408, eps=1e-05, momentum=0.1, affine=True, track_running_stats=True)\n",
            "        )\n",
            "        (f): BottleneckTransform(\n",
            "          (a): Conv2dNormActivation(\n",
            "            (0): Conv2d(168, 408, kernel_size=(1, 1), stride=(1, 1), bias=False)\n",
            "            (1): BatchNorm2d(408, eps=1e-05, momentum=0.1, affine=True, track_running_stats=True)\n",
            "            (2): ReLU(inplace=True)\n",
            "          )\n",
            "          (b): Conv2dNormActivation(\n",
            "            (0): Conv2d(408, 408, kernel_size=(3, 3), stride=(2, 2), padding=(1, 1), groups=17, bias=False)\n",
            "            (1): BatchNorm2d(408, eps=1e-05, momentum=0.1, affine=True, track_running_stats=True)\n",
            "            (2): ReLU(inplace=True)\n",
            "          )\n",
            "          (c): Conv2dNormActivation(\n",
            "            (0): Conv2d(408, 408, kernel_size=(1, 1), stride=(1, 1), bias=False)\n",
            "            (1): BatchNorm2d(408, eps=1e-05, momentum=0.1, affine=True, track_running_stats=True)\n",
            "          )\n",
            "        )\n",
            "        (activation): ReLU(inplace=True)\n",
            "      )\n",
            "      (block3-1): ResBottleneckBlock(\n",
            "        (f): BottleneckTransform(\n",
            "          (a): Conv2dNormActivation(\n",
            "            (0): Conv2d(408, 408, kernel_size=(1, 1), stride=(1, 1), bias=False)\n",
            "            (1): BatchNorm2d(408, eps=1e-05, momentum=0.1, affine=True, track_running_stats=True)\n",
            "            (2): ReLU(inplace=True)\n",
            "          )\n",
            "          (b): Conv2dNormActivation(\n",
            "            (0): Conv2d(408, 408, kernel_size=(3, 3), stride=(1, 1), padding=(1, 1), groups=17, bias=False)\n",
            "            (1): BatchNorm2d(408, eps=1e-05, momentum=0.1, affine=True, track_running_stats=True)\n",
            "            (2): ReLU(inplace=True)\n",
            "          )\n",
            "          (c): Conv2dNormActivation(\n",
            "            (0): Conv2d(408, 408, kernel_size=(1, 1), stride=(1, 1), bias=False)\n",
            "            (1): BatchNorm2d(408, eps=1e-05, momentum=0.1, affine=True, track_running_stats=True)\n",
            "          )\n",
            "        )\n",
            "        (activation): ReLU(inplace=True)\n",
            "      )\n",
            "      (block3-2): ResBottleneckBlock(\n",
            "        (f): BottleneckTransform(\n",
            "          (a): Conv2dNormActivation(\n",
            "            (0): Conv2d(408, 408, kernel_size=(1, 1), stride=(1, 1), bias=False)\n",
            "            (1): BatchNorm2d(408, eps=1e-05, momentum=0.1, affine=True, track_running_stats=True)\n",
            "            (2): ReLU(inplace=True)\n",
            "          )\n",
            "          (b): Conv2dNormActivation(\n",
            "            (0): Conv2d(408, 408, kernel_size=(3, 3), stride=(1, 1), padding=(1, 1), groups=17, bias=False)\n",
            "            (1): BatchNorm2d(408, eps=1e-05, momentum=0.1, affine=True, track_running_stats=True)\n",
            "            (2): ReLU(inplace=True)\n",
            "          )\n",
            "          (c): Conv2dNormActivation(\n",
            "            (0): Conv2d(408, 408, kernel_size=(1, 1), stride=(1, 1), bias=False)\n",
            "            (1): BatchNorm2d(408, eps=1e-05, momentum=0.1, affine=True, track_running_stats=True)\n",
            "          )\n",
            "        )\n",
            "        (activation): ReLU(inplace=True)\n",
            "      )\n",
            "      (block3-3): ResBottleneckBlock(\n",
            "        (f): BottleneckTransform(\n",
            "          (a): Conv2dNormActivation(\n",
            "            (0): Conv2d(408, 408, kernel_size=(1, 1), stride=(1, 1), bias=False)\n",
            "            (1): BatchNorm2d(408, eps=1e-05, momentum=0.1, affine=True, track_running_stats=True)\n",
            "            (2): ReLU(inplace=True)\n",
            "          )\n",
            "          (b): Conv2dNormActivation(\n",
            "            (0): Conv2d(408, 408, kernel_size=(3, 3), stride=(1, 1), padding=(1, 1), groups=17, bias=False)\n",
            "            (1): BatchNorm2d(408, eps=1e-05, momentum=0.1, affine=True, track_running_stats=True)\n",
            "            (2): ReLU(inplace=True)\n",
            "          )\n",
            "          (c): Conv2dNormActivation(\n",
            "            (0): Conv2d(408, 408, kernel_size=(1, 1), stride=(1, 1), bias=False)\n",
            "            (1): BatchNorm2d(408, eps=1e-05, momentum=0.1, affine=True, track_running_stats=True)\n",
            "          )\n",
            "        )\n",
            "        (activation): ReLU(inplace=True)\n",
            "      )\n",
            "      (block3-4): ResBottleneckBlock(\n",
            "        (f): BottleneckTransform(\n",
            "          (a): Conv2dNormActivation(\n",
            "            (0): Conv2d(408, 408, kernel_size=(1, 1), stride=(1, 1), bias=False)\n",
            "            (1): BatchNorm2d(408, eps=1e-05, momentum=0.1, affine=True, track_running_stats=True)\n",
            "            (2): ReLU(inplace=True)\n",
            "          )\n",
            "          (b): Conv2dNormActivation(\n",
            "            (0): Conv2d(408, 408, kernel_size=(3, 3), stride=(1, 1), padding=(1, 1), groups=17, bias=False)\n",
            "            (1): BatchNorm2d(408, eps=1e-05, momentum=0.1, affine=True, track_running_stats=True)\n",
            "            (2): ReLU(inplace=True)\n",
            "          )\n",
            "          (c): Conv2dNormActivation(\n",
            "            (0): Conv2d(408, 408, kernel_size=(1, 1), stride=(1, 1), bias=False)\n",
            "            (1): BatchNorm2d(408, eps=1e-05, momentum=0.1, affine=True, track_running_stats=True)\n",
            "          )\n",
            "        )\n",
            "        (activation): ReLU(inplace=True)\n",
            "      )\n",
            "      (block3-5): ResBottleneckBlock(\n",
            "        (f): BottleneckTransform(\n",
            "          (a): Conv2dNormActivation(\n",
            "            (0): Conv2d(408, 408, kernel_size=(1, 1), stride=(1, 1), bias=False)\n",
            "            (1): BatchNorm2d(408, eps=1e-05, momentum=0.1, affine=True, track_running_stats=True)\n",
            "            (2): ReLU(inplace=True)\n",
            "          )\n",
            "          (b): Conv2dNormActivation(\n",
            "            (0): Conv2d(408, 408, kernel_size=(3, 3), stride=(1, 1), padding=(1, 1), groups=17, bias=False)\n",
            "            (1): BatchNorm2d(408, eps=1e-05, momentum=0.1, affine=True, track_running_stats=True)\n",
            "            (2): ReLU(inplace=True)\n",
            "          )\n",
            "          (c): Conv2dNormActivation(\n",
            "            (0): Conv2d(408, 408, kernel_size=(1, 1), stride=(1, 1), bias=False)\n",
            "            (1): BatchNorm2d(408, eps=1e-05, momentum=0.1, affine=True, track_running_stats=True)\n",
            "          )\n",
            "        )\n",
            "        (activation): ReLU(inplace=True)\n",
            "      )\n",
            "      (block3-6): ResBottleneckBlock(\n",
            "        (f): BottleneckTransform(\n",
            "          (a): Conv2dNormActivation(\n",
            "            (0): Conv2d(408, 408, kernel_size=(1, 1), stride=(1, 1), bias=False)\n",
            "            (1): BatchNorm2d(408, eps=1e-05, momentum=0.1, affine=True, track_running_stats=True)\n",
            "            (2): ReLU(inplace=True)\n",
            "          )\n",
            "          (b): Conv2dNormActivation(\n",
            "            (0): Conv2d(408, 408, kernel_size=(3, 3), stride=(1, 1), padding=(1, 1), groups=17, bias=False)\n",
            "            (1): BatchNorm2d(408, eps=1e-05, momentum=0.1, affine=True, track_running_stats=True)\n",
            "            (2): ReLU(inplace=True)\n",
            "          )\n",
            "          (c): Conv2dNormActivation(\n",
            "            (0): Conv2d(408, 408, kernel_size=(1, 1), stride=(1, 1), bias=False)\n",
            "            (1): BatchNorm2d(408, eps=1e-05, momentum=0.1, affine=True, track_running_stats=True)\n",
            "          )\n",
            "        )\n",
            "        (activation): ReLU(inplace=True)\n",
            "      )\n",
            "      (block3-7): ResBottleneckBlock(\n",
            "        (f): BottleneckTransform(\n",
            "          (a): Conv2dNormActivation(\n",
            "            (0): Conv2d(408, 408, kernel_size=(1, 1), stride=(1, 1), bias=False)\n",
            "            (1): BatchNorm2d(408, eps=1e-05, momentum=0.1, affine=True, track_running_stats=True)\n",
            "            (2): ReLU(inplace=True)\n",
            "          )\n",
            "          (b): Conv2dNormActivation(\n",
            "            (0): Conv2d(408, 408, kernel_size=(3, 3), stride=(1, 1), padding=(1, 1), groups=17, bias=False)\n",
            "            (1): BatchNorm2d(408, eps=1e-05, momentum=0.1, affine=True, track_running_stats=True)\n",
            "            (2): ReLU(inplace=True)\n",
            "          )\n",
            "          (c): Conv2dNormActivation(\n",
            "            (0): Conv2d(408, 408, kernel_size=(1, 1), stride=(1, 1), bias=False)\n",
            "            (1): BatchNorm2d(408, eps=1e-05, momentum=0.1, affine=True, track_running_stats=True)\n",
            "          )\n",
            "        )\n",
            "        (activation): ReLU(inplace=True)\n",
            "      )\n",
            "      (block3-8): ResBottleneckBlock(\n",
            "        (f): BottleneckTransform(\n",
            "          (a): Conv2dNormActivation(\n",
            "            (0): Conv2d(408, 408, kernel_size=(1, 1), stride=(1, 1), bias=False)\n",
            "            (1): BatchNorm2d(408, eps=1e-05, momentum=0.1, affine=True, track_running_stats=True)\n",
            "            (2): ReLU(inplace=True)\n",
            "          )\n",
            "          (b): Conv2dNormActivation(\n",
            "            (0): Conv2d(408, 408, kernel_size=(3, 3), stride=(1, 1), padding=(1, 1), groups=17, bias=False)\n",
            "            (1): BatchNorm2d(408, eps=1e-05, momentum=0.1, affine=True, track_running_stats=True)\n",
            "            (2): ReLU(inplace=True)\n",
            "          )\n",
            "          (c): Conv2dNormActivation(\n",
            "            (0): Conv2d(408, 408, kernel_size=(1, 1), stride=(1, 1), bias=False)\n",
            "            (1): BatchNorm2d(408, eps=1e-05, momentum=0.1, affine=True, track_running_stats=True)\n",
            "          )\n",
            "        )\n",
            "        (activation): ReLU(inplace=True)\n",
            "      )\n",
            "      (block3-9): ResBottleneckBlock(\n",
            "        (f): BottleneckTransform(\n",
            "          (a): Conv2dNormActivation(\n",
            "            (0): Conv2d(408, 408, kernel_size=(1, 1), stride=(1, 1), bias=False)\n",
            "            (1): BatchNorm2d(408, eps=1e-05, momentum=0.1, affine=True, track_running_stats=True)\n",
            "            (2): ReLU(inplace=True)\n",
            "          )\n",
            "          (b): Conv2dNormActivation(\n",
            "            (0): Conv2d(408, 408, kernel_size=(3, 3), stride=(1, 1), padding=(1, 1), groups=17, bias=False)\n",
            "            (1): BatchNorm2d(408, eps=1e-05, momentum=0.1, affine=True, track_running_stats=True)\n",
            "            (2): ReLU(inplace=True)\n",
            "          )\n",
            "          (c): Conv2dNormActivation(\n",
            "            (0): Conv2d(408, 408, kernel_size=(1, 1), stride=(1, 1), bias=False)\n",
            "            (1): BatchNorm2d(408, eps=1e-05, momentum=0.1, affine=True, track_running_stats=True)\n",
            "          )\n",
            "        )\n",
            "        (activation): ReLU(inplace=True)\n",
            "      )\n",
            "    )\n",
            "    (block4): AnyStage(\n",
            "      (block4-0): ResBottleneckBlock(\n",
            "        (proj): Conv2dNormActivation(\n",
            "          (0): Conv2d(408, 912, kernel_size=(1, 1), stride=(2, 2), bias=False)\n",
            "          (1): BatchNorm2d(912, eps=1e-05, momentum=0.1, affine=True, track_running_stats=True)\n",
            "        )\n",
            "        (f): BottleneckTransform(\n",
            "          (a): Conv2dNormActivation(\n",
            "            (0): Conv2d(408, 912, kernel_size=(1, 1), stride=(1, 1), bias=False)\n",
            "            (1): BatchNorm2d(912, eps=1e-05, momentum=0.1, affine=True, track_running_stats=True)\n",
            "            (2): ReLU(inplace=True)\n",
            "          )\n",
            "          (b): Conv2dNormActivation(\n",
            "            (0): Conv2d(912, 912, kernel_size=(3, 3), stride=(2, 2), padding=(1, 1), groups=38, bias=False)\n",
            "            (1): BatchNorm2d(912, eps=1e-05, momentum=0.1, affine=True, track_running_stats=True)\n",
            "            (2): ReLU(inplace=True)\n",
            "          )\n",
            "          (c): Conv2dNormActivation(\n",
            "            (0): Conv2d(912, 912, kernel_size=(1, 1), stride=(1, 1), bias=False)\n",
            "            (1): BatchNorm2d(912, eps=1e-05, momentum=0.1, affine=True, track_running_stats=True)\n",
            "          )\n",
            "        )\n",
            "        (activation): ReLU(inplace=True)\n",
            "      )\n",
            "      (block4-1): ResBottleneckBlock(\n",
            "        (f): BottleneckTransform(\n",
            "          (a): Conv2dNormActivation(\n",
            "            (0): Conv2d(912, 912, kernel_size=(1, 1), stride=(1, 1), bias=False)\n",
            "            (1): BatchNorm2d(912, eps=1e-05, momentum=0.1, affine=True, track_running_stats=True)\n",
            "            (2): ReLU(inplace=True)\n",
            "          )\n",
            "          (b): Conv2dNormActivation(\n",
            "            (0): Conv2d(912, 912, kernel_size=(3, 3), stride=(1, 1), padding=(1, 1), groups=38, bias=False)\n",
            "            (1): BatchNorm2d(912, eps=1e-05, momentum=0.1, affine=True, track_running_stats=True)\n",
            "            (2): ReLU(inplace=True)\n",
            "          )\n",
            "          (c): Conv2dNormActivation(\n",
            "            (0): Conv2d(912, 912, kernel_size=(1, 1), stride=(1, 1), bias=False)\n",
            "            (1): BatchNorm2d(912, eps=1e-05, momentum=0.1, affine=True, track_running_stats=True)\n",
            "          )\n",
            "        )\n",
            "        (activation): ReLU(inplace=True)\n",
            "      )\n",
            "    )\n",
            "  )\n",
            "  (avgpool): AdaptiveAvgPool2d(output_size=(1, 1))\n",
            "  (fc): Linear(in_features=912, out_features=1000, bias=True)\n",
            ")\n"
          ]
        }
      ],
      "source": [
        "# import the pretrained model\n",
        "net = torchvision.models.regnet_x_1_6gf(weights='IMAGENET1K_V2') #weights=None for random weights **********\n",
        "print(net)"
      ]
    },
    {
      "cell_type": "markdown",
      "source": [
        "Change the classifier of the net:"
      ],
      "metadata": {
        "id": "WOR79XkEvsHO"
      }
    },
    {
      "cell_type": "code",
      "execution_count": 52,
      "metadata": {
        "colab": {
          "base_uri": "https://localhost:8080/"
        },
        "id": "FA68NbtWSKV5",
        "outputId": "06e51537-bb21-4a6f-87b0-69238d0207fe"
      },
      "outputs": [
        {
          "output_type": "stream",
          "name": "stdout",
          "text": [
            "RegNet(\n",
            "  (stem): SimpleStemIN(\n",
            "    (0): Conv2d(3, 32, kernel_size=(3, 3), stride=(2, 2), padding=(1, 1), bias=False)\n",
            "    (1): BatchNorm2d(32, eps=1e-05, momentum=0.1, affine=True, track_running_stats=True)\n",
            "    (2): ReLU(inplace=True)\n",
            "  )\n",
            "  (trunk_output): Sequential(\n",
            "    (block1): AnyStage(\n",
            "      (block1-0): ResBottleneckBlock(\n",
            "        (proj): Conv2dNormActivation(\n",
            "          (0): Conv2d(32, 72, kernel_size=(1, 1), stride=(2, 2), bias=False)\n",
            "          (1): BatchNorm2d(72, eps=1e-05, momentum=0.1, affine=True, track_running_stats=True)\n",
            "        )\n",
            "        (f): BottleneckTransform(\n",
            "          (a): Conv2dNormActivation(\n",
            "            (0): Conv2d(32, 72, kernel_size=(1, 1), stride=(1, 1), bias=False)\n",
            "            (1): BatchNorm2d(72, eps=1e-05, momentum=0.1, affine=True, track_running_stats=True)\n",
            "            (2): ReLU(inplace=True)\n",
            "          )\n",
            "          (b): Conv2dNormActivation(\n",
            "            (0): Conv2d(72, 72, kernel_size=(3, 3), stride=(2, 2), padding=(1, 1), groups=3, bias=False)\n",
            "            (1): BatchNorm2d(72, eps=1e-05, momentum=0.1, affine=True, track_running_stats=True)\n",
            "            (2): ReLU(inplace=True)\n",
            "          )\n",
            "          (c): Conv2dNormActivation(\n",
            "            (0): Conv2d(72, 72, kernel_size=(1, 1), stride=(1, 1), bias=False)\n",
            "            (1): BatchNorm2d(72, eps=1e-05, momentum=0.1, affine=True, track_running_stats=True)\n",
            "          )\n",
            "        )\n",
            "        (activation): ReLU(inplace=True)\n",
            "      )\n",
            "      (block1-1): ResBottleneckBlock(\n",
            "        (f): BottleneckTransform(\n",
            "          (a): Conv2dNormActivation(\n",
            "            (0): Conv2d(72, 72, kernel_size=(1, 1), stride=(1, 1), bias=False)\n",
            "            (1): BatchNorm2d(72, eps=1e-05, momentum=0.1, affine=True, track_running_stats=True)\n",
            "            (2): ReLU(inplace=True)\n",
            "          )\n",
            "          (b): Conv2dNormActivation(\n",
            "            (0): Conv2d(72, 72, kernel_size=(3, 3), stride=(1, 1), padding=(1, 1), groups=3, bias=False)\n",
            "            (1): BatchNorm2d(72, eps=1e-05, momentum=0.1, affine=True, track_running_stats=True)\n",
            "            (2): ReLU(inplace=True)\n",
            "          )\n",
            "          (c): Conv2dNormActivation(\n",
            "            (0): Conv2d(72, 72, kernel_size=(1, 1), stride=(1, 1), bias=False)\n",
            "            (1): BatchNorm2d(72, eps=1e-05, momentum=0.1, affine=True, track_running_stats=True)\n",
            "          )\n",
            "        )\n",
            "        (activation): ReLU(inplace=True)\n",
            "      )\n",
            "    )\n",
            "    (block2): AnyStage(\n",
            "      (block2-0): ResBottleneckBlock(\n",
            "        (proj): Conv2dNormActivation(\n",
            "          (0): Conv2d(72, 168, kernel_size=(1, 1), stride=(2, 2), bias=False)\n",
            "          (1): BatchNorm2d(168, eps=1e-05, momentum=0.1, affine=True, track_running_stats=True)\n",
            "        )\n",
            "        (f): BottleneckTransform(\n",
            "          (a): Conv2dNormActivation(\n",
            "            (0): Conv2d(72, 168, kernel_size=(1, 1), stride=(1, 1), bias=False)\n",
            "            (1): BatchNorm2d(168, eps=1e-05, momentum=0.1, affine=True, track_running_stats=True)\n",
            "            (2): ReLU(inplace=True)\n",
            "          )\n",
            "          (b): Conv2dNormActivation(\n",
            "            (0): Conv2d(168, 168, kernel_size=(3, 3), stride=(2, 2), padding=(1, 1), groups=7, bias=False)\n",
            "            (1): BatchNorm2d(168, eps=1e-05, momentum=0.1, affine=True, track_running_stats=True)\n",
            "            (2): ReLU(inplace=True)\n",
            "          )\n",
            "          (c): Conv2dNormActivation(\n",
            "            (0): Conv2d(168, 168, kernel_size=(1, 1), stride=(1, 1), bias=False)\n",
            "            (1): BatchNorm2d(168, eps=1e-05, momentum=0.1, affine=True, track_running_stats=True)\n",
            "          )\n",
            "        )\n",
            "        (activation): ReLU(inplace=True)\n",
            "      )\n",
            "      (block2-1): ResBottleneckBlock(\n",
            "        (f): BottleneckTransform(\n",
            "          (a): Conv2dNormActivation(\n",
            "            (0): Conv2d(168, 168, kernel_size=(1, 1), stride=(1, 1), bias=False)\n",
            "            (1): BatchNorm2d(168, eps=1e-05, momentum=0.1, affine=True, track_running_stats=True)\n",
            "            (2): ReLU(inplace=True)\n",
            "          )\n",
            "          (b): Conv2dNormActivation(\n",
            "            (0): Conv2d(168, 168, kernel_size=(3, 3), stride=(1, 1), padding=(1, 1), groups=7, bias=False)\n",
            "            (1): BatchNorm2d(168, eps=1e-05, momentum=0.1, affine=True, track_running_stats=True)\n",
            "            (2): ReLU(inplace=True)\n",
            "          )\n",
            "          (c): Conv2dNormActivation(\n",
            "            (0): Conv2d(168, 168, kernel_size=(1, 1), stride=(1, 1), bias=False)\n",
            "            (1): BatchNorm2d(168, eps=1e-05, momentum=0.1, affine=True, track_running_stats=True)\n",
            "          )\n",
            "        )\n",
            "        (activation): ReLU(inplace=True)\n",
            "      )\n",
            "      (block2-2): ResBottleneckBlock(\n",
            "        (f): BottleneckTransform(\n",
            "          (a): Conv2dNormActivation(\n",
            "            (0): Conv2d(168, 168, kernel_size=(1, 1), stride=(1, 1), bias=False)\n",
            "            (1): BatchNorm2d(168, eps=1e-05, momentum=0.1, affine=True, track_running_stats=True)\n",
            "            (2): ReLU(inplace=True)\n",
            "          )\n",
            "          (b): Conv2dNormActivation(\n",
            "            (0): Conv2d(168, 168, kernel_size=(3, 3), stride=(1, 1), padding=(1, 1), groups=7, bias=False)\n",
            "            (1): BatchNorm2d(168, eps=1e-05, momentum=0.1, affine=True, track_running_stats=True)\n",
            "            (2): ReLU(inplace=True)\n",
            "          )\n",
            "          (c): Conv2dNormActivation(\n",
            "            (0): Conv2d(168, 168, kernel_size=(1, 1), stride=(1, 1), bias=False)\n",
            "            (1): BatchNorm2d(168, eps=1e-05, momentum=0.1, affine=True, track_running_stats=True)\n",
            "          )\n",
            "        )\n",
            "        (activation): ReLU(inplace=True)\n",
            "      )\n",
            "      (block2-3): ResBottleneckBlock(\n",
            "        (f): BottleneckTransform(\n",
            "          (a): Conv2dNormActivation(\n",
            "            (0): Conv2d(168, 168, kernel_size=(1, 1), stride=(1, 1), bias=False)\n",
            "            (1): BatchNorm2d(168, eps=1e-05, momentum=0.1, affine=True, track_running_stats=True)\n",
            "            (2): ReLU(inplace=True)\n",
            "          )\n",
            "          (b): Conv2dNormActivation(\n",
            "            (0): Conv2d(168, 168, kernel_size=(3, 3), stride=(1, 1), padding=(1, 1), groups=7, bias=False)\n",
            "            (1): BatchNorm2d(168, eps=1e-05, momentum=0.1, affine=True, track_running_stats=True)\n",
            "            (2): ReLU(inplace=True)\n",
            "          )\n",
            "          (c): Conv2dNormActivation(\n",
            "            (0): Conv2d(168, 168, kernel_size=(1, 1), stride=(1, 1), bias=False)\n",
            "            (1): BatchNorm2d(168, eps=1e-05, momentum=0.1, affine=True, track_running_stats=True)\n",
            "          )\n",
            "        )\n",
            "        (activation): ReLU(inplace=True)\n",
            "      )\n",
            "    )\n",
            "    (block3): AnyStage(\n",
            "      (block3-0): ResBottleneckBlock(\n",
            "        (proj): Conv2dNormActivation(\n",
            "          (0): Conv2d(168, 408, kernel_size=(1, 1), stride=(2, 2), bias=False)\n",
            "          (1): BatchNorm2d(408, eps=1e-05, momentum=0.1, affine=True, track_running_stats=True)\n",
            "        )\n",
            "        (f): BottleneckTransform(\n",
            "          (a): Conv2dNormActivation(\n",
            "            (0): Conv2d(168, 408, kernel_size=(1, 1), stride=(1, 1), bias=False)\n",
            "            (1): BatchNorm2d(408, eps=1e-05, momentum=0.1, affine=True, track_running_stats=True)\n",
            "            (2): ReLU(inplace=True)\n",
            "          )\n",
            "          (b): Conv2dNormActivation(\n",
            "            (0): Conv2d(408, 408, kernel_size=(3, 3), stride=(2, 2), padding=(1, 1), groups=17, bias=False)\n",
            "            (1): BatchNorm2d(408, eps=1e-05, momentum=0.1, affine=True, track_running_stats=True)\n",
            "            (2): ReLU(inplace=True)\n",
            "          )\n",
            "          (c): Conv2dNormActivation(\n",
            "            (0): Conv2d(408, 408, kernel_size=(1, 1), stride=(1, 1), bias=False)\n",
            "            (1): BatchNorm2d(408, eps=1e-05, momentum=0.1, affine=True, track_running_stats=True)\n",
            "          )\n",
            "        )\n",
            "        (activation): ReLU(inplace=True)\n",
            "      )\n",
            "      (block3-1): ResBottleneckBlock(\n",
            "        (f): BottleneckTransform(\n",
            "          (a): Conv2dNormActivation(\n",
            "            (0): Conv2d(408, 408, kernel_size=(1, 1), stride=(1, 1), bias=False)\n",
            "            (1): BatchNorm2d(408, eps=1e-05, momentum=0.1, affine=True, track_running_stats=True)\n",
            "            (2): ReLU(inplace=True)\n",
            "          )\n",
            "          (b): Conv2dNormActivation(\n",
            "            (0): Conv2d(408, 408, kernel_size=(3, 3), stride=(1, 1), padding=(1, 1), groups=17, bias=False)\n",
            "            (1): BatchNorm2d(408, eps=1e-05, momentum=0.1, affine=True, track_running_stats=True)\n",
            "            (2): ReLU(inplace=True)\n",
            "          )\n",
            "          (c): Conv2dNormActivation(\n",
            "            (0): Conv2d(408, 408, kernel_size=(1, 1), stride=(1, 1), bias=False)\n",
            "            (1): BatchNorm2d(408, eps=1e-05, momentum=0.1, affine=True, track_running_stats=True)\n",
            "          )\n",
            "        )\n",
            "        (activation): ReLU(inplace=True)\n",
            "      )\n",
            "      (block3-2): ResBottleneckBlock(\n",
            "        (f): BottleneckTransform(\n",
            "          (a): Conv2dNormActivation(\n",
            "            (0): Conv2d(408, 408, kernel_size=(1, 1), stride=(1, 1), bias=False)\n",
            "            (1): BatchNorm2d(408, eps=1e-05, momentum=0.1, affine=True, track_running_stats=True)\n",
            "            (2): ReLU(inplace=True)\n",
            "          )\n",
            "          (b): Conv2dNormActivation(\n",
            "            (0): Conv2d(408, 408, kernel_size=(3, 3), stride=(1, 1), padding=(1, 1), groups=17, bias=False)\n",
            "            (1): BatchNorm2d(408, eps=1e-05, momentum=0.1, affine=True, track_running_stats=True)\n",
            "            (2): ReLU(inplace=True)\n",
            "          )\n",
            "          (c): Conv2dNormActivation(\n",
            "            (0): Conv2d(408, 408, kernel_size=(1, 1), stride=(1, 1), bias=False)\n",
            "            (1): BatchNorm2d(408, eps=1e-05, momentum=0.1, affine=True, track_running_stats=True)\n",
            "          )\n",
            "        )\n",
            "        (activation): ReLU(inplace=True)\n",
            "      )\n",
            "      (block3-3): ResBottleneckBlock(\n",
            "        (f): BottleneckTransform(\n",
            "          (a): Conv2dNormActivation(\n",
            "            (0): Conv2d(408, 408, kernel_size=(1, 1), stride=(1, 1), bias=False)\n",
            "            (1): BatchNorm2d(408, eps=1e-05, momentum=0.1, affine=True, track_running_stats=True)\n",
            "            (2): ReLU(inplace=True)\n",
            "          )\n",
            "          (b): Conv2dNormActivation(\n",
            "            (0): Conv2d(408, 408, kernel_size=(3, 3), stride=(1, 1), padding=(1, 1), groups=17, bias=False)\n",
            "            (1): BatchNorm2d(408, eps=1e-05, momentum=0.1, affine=True, track_running_stats=True)\n",
            "            (2): ReLU(inplace=True)\n",
            "          )\n",
            "          (c): Conv2dNormActivation(\n",
            "            (0): Conv2d(408, 408, kernel_size=(1, 1), stride=(1, 1), bias=False)\n",
            "            (1): BatchNorm2d(408, eps=1e-05, momentum=0.1, affine=True, track_running_stats=True)\n",
            "          )\n",
            "        )\n",
            "        (activation): ReLU(inplace=True)\n",
            "      )\n",
            "      (block3-4): ResBottleneckBlock(\n",
            "        (f): BottleneckTransform(\n",
            "          (a): Conv2dNormActivation(\n",
            "            (0): Conv2d(408, 408, kernel_size=(1, 1), stride=(1, 1), bias=False)\n",
            "            (1): BatchNorm2d(408, eps=1e-05, momentum=0.1, affine=True, track_running_stats=True)\n",
            "            (2): ReLU(inplace=True)\n",
            "          )\n",
            "          (b): Conv2dNormActivation(\n",
            "            (0): Conv2d(408, 408, kernel_size=(3, 3), stride=(1, 1), padding=(1, 1), groups=17, bias=False)\n",
            "            (1): BatchNorm2d(408, eps=1e-05, momentum=0.1, affine=True, track_running_stats=True)\n",
            "            (2): ReLU(inplace=True)\n",
            "          )\n",
            "          (c): Conv2dNormActivation(\n",
            "            (0): Conv2d(408, 408, kernel_size=(1, 1), stride=(1, 1), bias=False)\n",
            "            (1): BatchNorm2d(408, eps=1e-05, momentum=0.1, affine=True, track_running_stats=True)\n",
            "          )\n",
            "        )\n",
            "        (activation): ReLU(inplace=True)\n",
            "      )\n",
            "      (block3-5): ResBottleneckBlock(\n",
            "        (f): BottleneckTransform(\n",
            "          (a): Conv2dNormActivation(\n",
            "            (0): Conv2d(408, 408, kernel_size=(1, 1), stride=(1, 1), bias=False)\n",
            "            (1): BatchNorm2d(408, eps=1e-05, momentum=0.1, affine=True, track_running_stats=True)\n",
            "            (2): ReLU(inplace=True)\n",
            "          )\n",
            "          (b): Conv2dNormActivation(\n",
            "            (0): Conv2d(408, 408, kernel_size=(3, 3), stride=(1, 1), padding=(1, 1), groups=17, bias=False)\n",
            "            (1): BatchNorm2d(408, eps=1e-05, momentum=0.1, affine=True, track_running_stats=True)\n",
            "            (2): ReLU(inplace=True)\n",
            "          )\n",
            "          (c): Conv2dNormActivation(\n",
            "            (0): Conv2d(408, 408, kernel_size=(1, 1), stride=(1, 1), bias=False)\n",
            "            (1): BatchNorm2d(408, eps=1e-05, momentum=0.1, affine=True, track_running_stats=True)\n",
            "          )\n",
            "        )\n",
            "        (activation): ReLU(inplace=True)\n",
            "      )\n",
            "      (block3-6): ResBottleneckBlock(\n",
            "        (f): BottleneckTransform(\n",
            "          (a): Conv2dNormActivation(\n",
            "            (0): Conv2d(408, 408, kernel_size=(1, 1), stride=(1, 1), bias=False)\n",
            "            (1): BatchNorm2d(408, eps=1e-05, momentum=0.1, affine=True, track_running_stats=True)\n",
            "            (2): ReLU(inplace=True)\n",
            "          )\n",
            "          (b): Conv2dNormActivation(\n",
            "            (0): Conv2d(408, 408, kernel_size=(3, 3), stride=(1, 1), padding=(1, 1), groups=17, bias=False)\n",
            "            (1): BatchNorm2d(408, eps=1e-05, momentum=0.1, affine=True, track_running_stats=True)\n",
            "            (2): ReLU(inplace=True)\n",
            "          )\n",
            "          (c): Conv2dNormActivation(\n",
            "            (0): Conv2d(408, 408, kernel_size=(1, 1), stride=(1, 1), bias=False)\n",
            "            (1): BatchNorm2d(408, eps=1e-05, momentum=0.1, affine=True, track_running_stats=True)\n",
            "          )\n",
            "        )\n",
            "        (activation): ReLU(inplace=True)\n",
            "      )\n",
            "      (block3-7): ResBottleneckBlock(\n",
            "        (f): BottleneckTransform(\n",
            "          (a): Conv2dNormActivation(\n",
            "            (0): Conv2d(408, 408, kernel_size=(1, 1), stride=(1, 1), bias=False)\n",
            "            (1): BatchNorm2d(408, eps=1e-05, momentum=0.1, affine=True, track_running_stats=True)\n",
            "            (2): ReLU(inplace=True)\n",
            "          )\n",
            "          (b): Conv2dNormActivation(\n",
            "            (0): Conv2d(408, 408, kernel_size=(3, 3), stride=(1, 1), padding=(1, 1), groups=17, bias=False)\n",
            "            (1): BatchNorm2d(408, eps=1e-05, momentum=0.1, affine=True, track_running_stats=True)\n",
            "            (2): ReLU(inplace=True)\n",
            "          )\n",
            "          (c): Conv2dNormActivation(\n",
            "            (0): Conv2d(408, 408, kernel_size=(1, 1), stride=(1, 1), bias=False)\n",
            "            (1): BatchNorm2d(408, eps=1e-05, momentum=0.1, affine=True, track_running_stats=True)\n",
            "          )\n",
            "        )\n",
            "        (activation): ReLU(inplace=True)\n",
            "      )\n",
            "      (block3-8): ResBottleneckBlock(\n",
            "        (f): BottleneckTransform(\n",
            "          (a): Conv2dNormActivation(\n",
            "            (0): Conv2d(408, 408, kernel_size=(1, 1), stride=(1, 1), bias=False)\n",
            "            (1): BatchNorm2d(408, eps=1e-05, momentum=0.1, affine=True, track_running_stats=True)\n",
            "            (2): ReLU(inplace=True)\n",
            "          )\n",
            "          (b): Conv2dNormActivation(\n",
            "            (0): Conv2d(408, 408, kernel_size=(3, 3), stride=(1, 1), padding=(1, 1), groups=17, bias=False)\n",
            "            (1): BatchNorm2d(408, eps=1e-05, momentum=0.1, affine=True, track_running_stats=True)\n",
            "            (2): ReLU(inplace=True)\n",
            "          )\n",
            "          (c): Conv2dNormActivation(\n",
            "            (0): Conv2d(408, 408, kernel_size=(1, 1), stride=(1, 1), bias=False)\n",
            "            (1): BatchNorm2d(408, eps=1e-05, momentum=0.1, affine=True, track_running_stats=True)\n",
            "          )\n",
            "        )\n",
            "        (activation): ReLU(inplace=True)\n",
            "      )\n",
            "      (block3-9): ResBottleneckBlock(\n",
            "        (f): BottleneckTransform(\n",
            "          (a): Conv2dNormActivation(\n",
            "            (0): Conv2d(408, 408, kernel_size=(1, 1), stride=(1, 1), bias=False)\n",
            "            (1): BatchNorm2d(408, eps=1e-05, momentum=0.1, affine=True, track_running_stats=True)\n",
            "            (2): ReLU(inplace=True)\n",
            "          )\n",
            "          (b): Conv2dNormActivation(\n",
            "            (0): Conv2d(408, 408, kernel_size=(3, 3), stride=(1, 1), padding=(1, 1), groups=17, bias=False)\n",
            "            (1): BatchNorm2d(408, eps=1e-05, momentum=0.1, affine=True, track_running_stats=True)\n",
            "            (2): ReLU(inplace=True)\n",
            "          )\n",
            "          (c): Conv2dNormActivation(\n",
            "            (0): Conv2d(408, 408, kernel_size=(1, 1), stride=(1, 1), bias=False)\n",
            "            (1): BatchNorm2d(408, eps=1e-05, momentum=0.1, affine=True, track_running_stats=True)\n",
            "          )\n",
            "        )\n",
            "        (activation): ReLU(inplace=True)\n",
            "      )\n",
            "    )\n",
            "    (block4): AnyStage(\n",
            "      (block4-0): ResBottleneckBlock(\n",
            "        (proj): Conv2dNormActivation(\n",
            "          (0): Conv2d(408, 912, kernel_size=(1, 1), stride=(2, 2), bias=False)\n",
            "          (1): BatchNorm2d(912, eps=1e-05, momentum=0.1, affine=True, track_running_stats=True)\n",
            "        )\n",
            "        (f): BottleneckTransform(\n",
            "          (a): Conv2dNormActivation(\n",
            "            (0): Conv2d(408, 912, kernel_size=(1, 1), stride=(1, 1), bias=False)\n",
            "            (1): BatchNorm2d(912, eps=1e-05, momentum=0.1, affine=True, track_running_stats=True)\n",
            "            (2): ReLU(inplace=True)\n",
            "          )\n",
            "          (b): Conv2dNormActivation(\n",
            "            (0): Conv2d(912, 912, kernel_size=(3, 3), stride=(2, 2), padding=(1, 1), groups=38, bias=False)\n",
            "            (1): BatchNorm2d(912, eps=1e-05, momentum=0.1, affine=True, track_running_stats=True)\n",
            "            (2): ReLU(inplace=True)\n",
            "          )\n",
            "          (c): Conv2dNormActivation(\n",
            "            (0): Conv2d(912, 912, kernel_size=(1, 1), stride=(1, 1), bias=False)\n",
            "            (1): BatchNorm2d(912, eps=1e-05, momentum=0.1, affine=True, track_running_stats=True)\n",
            "          )\n",
            "        )\n",
            "        (activation): ReLU(inplace=True)\n",
            "      )\n",
            "      (block4-1): ResBottleneckBlock(\n",
            "        (f): BottleneckTransform(\n",
            "          (a): Conv2dNormActivation(\n",
            "            (0): Conv2d(912, 912, kernel_size=(1, 1), stride=(1, 1), bias=False)\n",
            "            (1): BatchNorm2d(912, eps=1e-05, momentum=0.1, affine=True, track_running_stats=True)\n",
            "            (2): ReLU(inplace=True)\n",
            "          )\n",
            "          (b): Conv2dNormActivation(\n",
            "            (0): Conv2d(912, 912, kernel_size=(3, 3), stride=(1, 1), padding=(1, 1), groups=38, bias=False)\n",
            "            (1): BatchNorm2d(912, eps=1e-05, momentum=0.1, affine=True, track_running_stats=True)\n",
            "            (2): ReLU(inplace=True)\n",
            "          )\n",
            "          (c): Conv2dNormActivation(\n",
            "            (0): Conv2d(912, 912, kernel_size=(1, 1), stride=(1, 1), bias=False)\n",
            "            (1): BatchNorm2d(912, eps=1e-05, momentum=0.1, affine=True, track_running_stats=True)\n",
            "          )\n",
            "        )\n",
            "        (activation): ReLU(inplace=True)\n",
            "      )\n",
            "    )\n",
            "  )\n",
            "  (avgpool): AdaptiveAvgPool2d(output_size=(1, 1))\n",
            "  (fc): Sequential(\n",
            "    (0): Linear(in_features=912, out_features=500, bias=True)\n",
            "    (1): ReLU()\n",
            "    (2): Linear(in_features=500, out_features=250, bias=True)\n",
            "    (3): ReLU()\n",
            "    (4): Linear(in_features=250, out_features=100, bias=True)\n",
            "  )\n",
            ")\n"
          ]
        }
      ],
      "source": [
        "# number of features as output of the pre-trained model\n",
        "num_ftrs = net.fc.in_features\n",
        "# define the classifier\n",
        "classifier = nn.Sequential(nn.Linear(num_ftrs, 500),\n",
        "                               nn.ReLU(),\n",
        "                               nn.Linear(500, 250),\n",
        "                               nn.ReLU(),\n",
        "                               # the output size is 100 since we have 100 classes\n",
        "                               nn.Linear(250, 100)\n",
        "                               )\n",
        "#substitute the net classifier with the one just defined\n",
        "#net.classifier = classifier\n",
        "net.fc = classifier\n",
        "# print our net\n",
        "print(net)\n",
        "net = net.to(DEVICE)"
      ]
    },
    {
      "cell_type": "markdown",
      "metadata": {
        "id": "Rkg_USw217Nq"
      },
      "source": [
        "Freeze the parameters of the CNN in order to train only the classifier:"
      ]
    },
    {
      "cell_type": "code",
      "execution_count": 53,
      "metadata": {
        "id": "5RToJ8B-nOc2"
      },
      "outputs": [],
      "source": [
        "for key, value in dict(net.named_children()).items():\n",
        "  #print(key)\n",
        "  #if \"classifier\" in key:\n",
        "  if \"fc\" in key:\n",
        "    for param in value.parameters():\n",
        "        param.requires_grad = True\n",
        "        # print(param)\n",
        "  else:\n",
        "    for param in value.parameters():\n",
        "        param.requires_grad = False\n",
        "        # print(param)"
      ]
    },
    {
      "cell_type": "markdown",
      "metadata": {
        "id": "NWX0jrb593U_"
      },
      "source": [
        "Define Loss function and Optimizer:"
      ]
    },
    {
      "cell_type": "code",
      "execution_count": 54,
      "metadata": {
        "id": "c8tgBJV5c0kj"
      },
      "outputs": [],
      "source": [
        "# define the loss\n",
        "criterion = nn.CrossEntropyLoss()\n",
        "# define the optimizer\n",
        "optimizer = optim.Adam(net.parameters(), lr=0.001)\n",
        "#optimizer = optim.ASGD(net.parameters(), lr=0.001)\n",
        "# define the scheduler\n",
        "scheduler = CosineAnnealingLR(optimizer,\n",
        "                              T_max = 100000, \n",
        "                              eta_min = 1e-5)"
      ]
    },
    {
      "cell_type": "markdown",
      "metadata": {
        "id": "4OJ0RIpT8odE"
      },
      "source": [
        "### Training (Transfer Learning)"
      ]
    },
    {
      "cell_type": "markdown",
      "metadata": {
        "id": "-aZFQ4se_MUT"
      },
      "source": [
        "Training and Validation:"
      ]
    },
    {
      "cell_type": "code",
      "execution_count": 55,
      "metadata": {
        "id": "H7eJrx4kLsdV"
      },
      "outputs": [],
      "source": [
        "if Training:\n",
        "    # number of epochs\n",
        "    N_epochs = 10\n",
        "\n",
        "    best_model = None\n",
        "    best_loss = np.inf\n",
        "    patience = 8\n",
        "\n",
        "    # list to save the validation loss values in order to plot them\n",
        "    losses = []\n",
        "\n",
        "    # lists to save the accuracy on training and validation set in order to plot them\n",
        "    label_train = []\n",
        "    predictions_train = []\n",
        "    accuracy_train = []\n",
        "    label_val = []\n",
        "    predictions_val = []\n",
        "    accuracy_val = []\n",
        "\n",
        "    for epoch in range(N_epochs):\n",
        "        running_loss = 0.0\n",
        "        k=0\n",
        "        net.train()\n",
        "        for i, data in enumerate(trainloader):\n",
        "            # get the inputs\n",
        "            inputs, labels = data[\"image\"], data[\"label\"]\n",
        "            labels = torch.tensor(labels, dtype= torch.int64)\n",
        "            inputs=inputs.to(DEVICE)\n",
        "            labels=labels.to(DEVICE)\n",
        "            # zero the parameter gradients\n",
        "            optimizer.zero_grad()\n",
        "            # forward + backward + optimize\n",
        "            outputs = net(inputs)\n",
        "\n",
        "            _, predicted_train = torch.max(outputs, 1)\n",
        "            predictions_train.append(predicted_train.cpu())\n",
        "            label_train.append(labels)\n",
        "            \n",
        "            loss = criterion(outputs, labels)\n",
        "            loss.backward()\n",
        "            optimizer.step()\n",
        "            scheduler.step()\n",
        "            k+=1\n",
        "            # print statistics\n",
        "            running_loss += loss.item()\n",
        "            if (i % (len(trainloader)//10))==0: \n",
        "                print('[%d, %d] loss: %.4f' %\n",
        "                    (epoch + 1, i + 1, running_loss / k))\n",
        "                running_loss = 0.0\n",
        "                k=0\n",
        "\n",
        "        # transform the lists of tensor to lists of numbers\n",
        "        label_train = torch.cat(label_train).tolist()\n",
        "        predictions_train = torch.cat(predictions_train).tolist()\n",
        "\n",
        "        confusion_mat = confusion_matrix(label_train, predictions_train)\n",
        "        accuracy_train.append(compute_accuracy(confusion_mat))\n",
        "\n",
        "        # empty the lists for the new epoch\n",
        "        label_train = []\n",
        "        predictions_train = []\n",
        "\n",
        "        # pass to validation\n",
        "        net.eval()\n",
        "        k=0\n",
        "        loss = 0\n",
        "        with torch.no_grad():\n",
        "            for i, data in enumerate(valloader):\n",
        "                inputs, labels = data[\"image\"], data[\"label\"]\n",
        "                labels = torch.tensor(labels, dtype= torch.int64)\n",
        "                inputs = inputs.to(DEVICE)\n",
        "                labels = labels.to(DEVICE)\n",
        "                outputs = net(inputs)\n",
        "                outputs = outputs.to(DEVICE)\n",
        "\n",
        "                _, predicted_val = torch.max(outputs, 1)\n",
        "                predictions_val.append(predicted_val.cpu())\n",
        "                label_val.append(labels)\n",
        "\n",
        "                loss += criterion(outputs, labels)\n",
        "                k += 1\n",
        "\n",
        "            # transform the lists of tensor to lists of numbers\n",
        "            label_val = torch.cat(label_val).tolist()\n",
        "            predictions_val = torch.cat(predictions_val).tolist()\n",
        "\n",
        "            confusion_mat = confusion_matrix(label_val, predictions_val)\n",
        "            accuracy_val.append(compute_accuracy(confusion_mat)) \n",
        "\n",
        "            # empty the lists for the new epoch\n",
        "            label_val = []\n",
        "            predictions_val = []  \n",
        "\n",
        "            if loss < best_loss:\n",
        "                best_loss = loss\n",
        "                # save the best model\n",
        "                #torch.save(net.state_dict(), \"best_net.pth\")\n",
        "                patience = 8\n",
        "                print(\"**BEST**\", end= \"\")\n",
        "            else:\n",
        "                # decrease the patience\n",
        "                patience -= 1 \n",
        "            print(\"Epoch %d: Cross-entropy: %.4f\" % (epoch, loss/k))\n",
        "            # pass the value of the loss to cpu in order to put it in the list losses\n",
        "            loss = loss.cpu()\n",
        "            losses.append(loss/k)\n",
        "            if patience <= 0:\n",
        "                # stop the training\n",
        "                break\n",
        "\n",
        "            # save the model\n",
        "            torch.save(net.state_dict(), \"net.pth\")\n",
        "\n",
        "    print('Finished Training')"
      ]
    },
    {
      "cell_type": "markdown",
      "source": [
        "Loss trend with the number of epochs (print the graph) (only if the training is performed):"
      ],
      "metadata": {
        "id": "_rvN7tckt2ad"
      }
    },
    {
      "cell_type": "code",
      "source": [
        "if Training:\n",
        "    fig1 = plt.figure(figsize = (16,9))\n",
        "\n",
        "    # plot\n",
        "    plt.plot(range(0,10), losses, marker = \"o\", linestyle = \"-\")\n",
        "\n",
        "    # axis options\n",
        "    plt.xlabel(\"No. of epoch\")\n",
        "    plt.ylabel(\"Validation Loss\")\n",
        "    plt.xticks(range(0,10))\n",
        "    plt.grid()\n",
        "    plt.title(\"Loss vs Number of epochs\")\n",
        "\n",
        "    plt.savefig(\"Loss.png\")\n",
        "    plt.show()"
      ],
      "metadata": {
        "id": "RCC5t2jmt176"
      },
      "execution_count": 56,
      "outputs": []
    },
    {
      "cell_type": "markdown",
      "source": [
        "Plot of Training and Validation Accuracy with the number of epochs:"
      ],
      "metadata": {
        "id": "_EnNFnbn5Rxu"
      }
    },
    {
      "cell_type": "code",
      "source": [
        "if Training:\n",
        "    fig2 = plt.figure(figsize = (16,9))\n",
        "\n",
        "    # plot\n",
        "    plt.plot(range(0,10), accuracy_train, marker = \"o\", linestyle = \"-\", color = 'red', label = \"Training accuracy\")\n",
        "    plt.plot(range(0,10), accuracy_val, marker = \"o\", linestyle = \"-\", color = 'blue', label = \"Validation Accuracy\")\n",
        "\n",
        "    # axis options\n",
        "    plt.xlabel(\"No. of epoch\")\n",
        "    plt.ylabel(\"Accuracy\")\n",
        "    plt.xticks(range(0,10))\n",
        "    plt.legend()\n",
        "    plt.grid()\n",
        "    plt.title(\"Train and Validation Accuracy vs Number of epochs\")\n",
        "\n",
        "    plt.savefig(\"Train_Val_Accuracy.png\")\n",
        "    plt.show()"
      ],
      "metadata": {
        "id": "-a0S68igN2-b"
      },
      "execution_count": 57,
      "outputs": []
    },
    {
      "cell_type": "markdown",
      "metadata": {
        "id": "s5RVAEPktdkS"
      },
      "source": [
        "Load the model (already saved) when not performing the training of the net:"
      ]
    },
    {
      "cell_type": "code",
      "execution_count": 58,
      "metadata": {
        "id": "5mlviP0RoMoM",
        "colab": {
          "base_uri": "https://localhost:8080/"
        },
        "outputId": "5b12645a-c999-4809-c4f9-51773e0be727"
      },
      "outputs": [
        {
          "output_type": "stream",
          "name": "stdout",
          "text": [
            "Downloading...\n",
            "From: https://drive.google.com/uc?id=1yAtfwSRK_fOKYEdP1v4YHk6dCtYsyqfa\n",
            "To: /content/net.pth\n",
            "100% 35.8M/35.8M [00:00<00:00, 140MB/s]\n"
          ]
        }
      ],
      "source": [
        "if Training == False:\n",
        "    # download the model\n",
        "    !gdown \"1yAtfwSRK_fOKYEdP1v4YHk6dCtYsyqfa\"\n",
        "    # load the model\n",
        "    net.load_state_dict(torch.load('net.pth'))"
      ]
    },
    {
      "cell_type": "markdown",
      "metadata": {
        "id": "vy0kVH1YCRYu"
      },
      "source": [
        "### Evaluation\n",
        "Evaluate the performance of the model (on the test set)."
      ]
    },
    {
      "cell_type": "markdown",
      "source": [
        "Get true labels and predicted ones on the test set:"
      ],
      "metadata": {
        "id": "jORS4gw9wo18"
      }
    },
    {
      "cell_type": "code",
      "source": [
        "# get the ground truth labels of the test images\n",
        "label_test = []\n",
        "# get the predictions on the test images\n",
        "predictions = []\n",
        "\n",
        "net.eval()\n",
        "\n",
        "for i, data in enumerate(testloader):\n",
        "  image, label = data[\"image\"], data[\"label\"]\n",
        "  label_test.append(label)\n",
        "  image=image.to(DEVICE)\n",
        "  output = net(image)\n",
        "  _, predicted = torch.max(output, 1)\n",
        "  predictions.append(predicted.cpu())\n",
        "\n",
        "# transform the lists of tensor to lists of numbers\n",
        "label_test = [l.item() for l in label_test]\n",
        "predictions = [p.item() for p in predictions]\n",
        "#print(label_test)\n",
        "#print(predictions)"
      ],
      "metadata": {
        "id": "bTCnyJcHCWQG"
      },
      "execution_count": 59,
      "outputs": []
    },
    {
      "cell_type": "markdown",
      "source": [
        "Compute the Confusion Matrix:"
      ],
      "metadata": {
        "id": "dRSBEeGcxSzS"
      }
    },
    {
      "cell_type": "code",
      "source": [
        "confusion_mat = confusion_matrix(label_test, predictions)"
      ],
      "metadata": {
        "id": "WWoN8yWkxYUK"
      },
      "execution_count": 60,
      "outputs": []
    },
    {
      "cell_type": "markdown",
      "source": [
        "Plot the Confusion Matrix:"
      ],
      "metadata": {
        "id": "rLwdurNNxP_0"
      }
    },
    {
      "cell_type": "code",
      "execution_count": 61,
      "metadata": {
        "id": "-ThjQmJbwHch",
        "colab": {
          "base_uri": "https://localhost:8080/",
          "height": 487
        },
        "outputId": "26cb9b87-9ef7-4786-c7ff-15d43915c28a"
      },
      "outputs": [
        {
          "output_type": "display_data",
          "data": {
            "text/plain": [
              "<Figure size 640x480 with 2 Axes>"
            ],
            "image/png": "[encoded data removed]"
          },
          "metadata": {}
        }
      ],
      "source": [
        "# range(100) contains the labels of the classes (which are the numbers from 0 to 99)\n",
        "plot_confusionmatrix(confusion_mat, range(100))"
      ]
    },
    {
      "cell_type": "markdown",
      "source": [
        "Total Accuracy:"
      ],
      "metadata": {
        "id": "HUQiRKKJxOP9"
      }
    },
    {
      "cell_type": "code",
      "source": [
        "accuracy = compute_accuracy(confusion_mat)\n",
        "print(\"The total accuracy is %.f%%\" %(accuracy*100))"
      ],
      "metadata": {
        "id": "CuZAmIxPxIVr",
        "colab": {
          "base_uri": "https://localhost:8080/"
        },
        "outputId": "ad2c11c2-60d7-4262-8e43-9ce902c3a9e9"
      },
      "execution_count": 62,
      "outputs": [
        {
          "output_type": "stream",
          "name": "stdout",
          "text": [
            "The total accuracy is 70%\n"
          ]
        }
      ]
    },
    {
      "cell_type": "markdown",
      "metadata": {
        "id": "uhBeU9xUdVb0"
      },
      "source": [
        "Accuracy per class:"
      ]
    },
    {
      "cell_type": "code",
      "execution_count": 63,
      "metadata": {
        "id": "tXLa6mZMBciE",
        "colab": {
          "base_uri": "https://localhost:8080/"
        },
        "outputId": "ba22ec68-4c1b-4f98-927b-8c483e8ae53c"
      },
      "outputs": [
        {
          "output_type": "stream",
          "name": "stdout",
          "text": [
            "Accuracy of     0 : 73 %\n",
            "Accuracy of     1 : 90 %\n",
            "Accuracy of     2 : 56 %\n",
            "Accuracy of     3 : 89 %\n",
            "Accuracy of     4 : 79 %\n",
            "Accuracy of     5 : 66 %\n",
            "Accuracy of     6 : 52 %\n",
            "Accuracy of     7 : 82 %\n",
            "Accuracy of     8 : 77 %\n",
            "Accuracy of     9 : 75 %\n",
            "Accuracy of    10 : 50 %\n",
            "Accuracy of    11 : 59 %\n",
            "Accuracy of    12 : 70 %\n",
            "Accuracy of    13 : 49 %\n",
            "Accuracy of    14 : 78 %\n",
            "Accuracy of    15 : 66 %\n",
            "Accuracy of    16 : 68 %\n",
            "Accuracy of    17 : 59 %\n",
            "Accuracy of    18 : 48 %\n",
            "Accuracy of    19 : 79 %\n",
            "Accuracy of    20 : 94 %\n",
            "Accuracy of    21 : 67 %\n",
            "Accuracy of    22 : 90 %\n",
            "Accuracy of    23 : 88 %\n",
            "Accuracy of    24 : 64 %\n",
            "Accuracy of    25 : 78 %\n",
            "Accuracy of    26 : 75 %\n",
            "Accuracy of    27 : 79 %\n",
            "Accuracy of    28 : 72 %\n",
            "Accuracy of    29 : 75 %\n",
            "Accuracy of    30 : 63 %\n",
            "Accuracy of    31 : 66 %\n",
            "Accuracy of    32 : 90 %\n",
            "Accuracy of    33 : 63 %\n",
            "Accuracy of    34 : 76 %\n",
            "Accuracy of    35 : 60 %\n",
            "Accuracy of    36 : 60 %\n",
            "Accuracy of    37 : 69 %\n",
            "Accuracy of    38 : 92 %\n",
            "Accuracy of    39 : 86 %\n",
            "Accuracy of    40 : 84 %\n",
            "Accuracy of    41 : 70 %\n",
            "Accuracy of    42 : 81 %\n",
            "Accuracy of    43 : 71 %\n",
            "Accuracy of    44 : 70 %\n",
            "Accuracy of    45 : 64 %\n",
            "Accuracy of    46 : 70 %\n",
            "Accuracy of    47 : 42 %\n",
            "Accuracy of    48 : 83 %\n",
            "Accuracy of    49 : 80 %\n",
            "Accuracy of    50 : 52 %\n",
            "Accuracy of    51 : 58 %\n",
            "Accuracy of    52 : 65 %\n",
            "Accuracy of    53 : 34 %\n",
            "Accuracy of    54 : 60 %\n",
            "Accuracy of    55 : 33 %\n",
            "Accuracy of    56 : 62 %\n",
            "Accuracy of    57 : 57 %\n",
            "Accuracy of    58 : 58 %\n",
            "Accuracy of    59 : 70 %\n",
            "Accuracy of    60 : 93 %\n",
            "Accuracy of    61 : 66 %\n",
            "Accuracy of    62 : 75 %\n",
            "Accuracy of    63 : 79 %\n",
            "Accuracy of    64 : 45 %\n",
            "Accuracy of    65 : 42 %\n",
            "Accuracy of    66 : 74 %\n",
            "Accuracy of    67 : 69 %\n",
            "Accuracy of    68 : 64 %\n",
            "Accuracy of    69 : 65 %\n",
            "Accuracy of    70 : 67 %\n",
            "Accuracy of    71 : 71 %\n",
            "Accuracy of    72 : 74 %\n",
            "Accuracy of    73 : 74 %\n",
            "Accuracy of    74 : 67 %\n",
            "Accuracy of    75 : 78 %\n",
            "Accuracy of    76 : 54 %\n",
            "Accuracy of    77 : 72 %\n",
            "Accuracy of    78 : 83 %\n",
            "Accuracy of    79 : 94 %\n",
            "Accuracy of    80 : 76 %\n",
            "Accuracy of    81 : 88 %\n",
            "Accuracy of    82 : 81 %\n",
            "Accuracy of    83 : 50 %\n",
            "Accuracy of    84 : 79 %\n",
            "Accuracy of    85 : 57 %\n",
            "Accuracy of    86 : 94 %\n",
            "Accuracy of    87 : 90 %\n",
            "Accuracy of    88 : 75 %\n",
            "Accuracy of    89 : 89 %\n",
            "Accuracy of    90 : 48 %\n",
            "Accuracy of    91 : 65 %\n",
            "Accuracy of    92 : 76 %\n",
            "Accuracy of    93 : 52 %\n",
            "Accuracy of    94 : 75 %\n",
            "Accuracy of    95 : 95 %\n",
            "Accuracy of    96 : 78 %\n",
            "Accuracy of    97 : 60 %\n",
            "Accuracy of    98 : 74 %\n",
            "Accuracy of    99 : 71 %\n"
          ]
        }
      ],
      "source": [
        "# list of 100 elements in which the element i contain the number of correct predictions...\n",
        "# that the model made of that class\n",
        "class_correct = []\n",
        "# list of 100 elements in which the element i contain the total number of predictions...\n",
        "# that the model made of that class\n",
        "class_total = []\n",
        "# labels of the classes\n",
        "classes = np.arange(100)\n",
        "# list of accuracies for each class\n",
        "accuracy_classes = []\n",
        "\n",
        "for i in range(100):\n",
        "  vertical_array = confusion_mat[:, i]\n",
        "  # the sum of the vertical_array is the total number of times that the class was predicted\n",
        "  class_total.append(np.sum(vertical_array))\n",
        "  # the i-th element of the vertical_array is the element (i,i) on the diagonal...\n",
        "  # of the confusion matrix, which is the number of correct predictions of the class i\n",
        "  class_correct.append(vertical_array[i])\n",
        "\n",
        "for i in range(100):\n",
        "    accuracy_classes.append(100 * class_correct[i] / class_total[i])\n",
        "    print('Accuracy of %5s : %2d %%' % (\n",
        "        classes[i], accuracy_classes[i]))"
      ]
    },
    {
      "cell_type": "markdown",
      "metadata": {
        "id": "YO0OVDA8meDA"
      },
      "source": [
        "Bar chart of class accuracies:"
      ]
    },
    {
      "cell_type": "code",
      "execution_count": 64,
      "metadata": {
        "id": "hFtzTMnrmMOY",
        "colab": {
          "base_uri": "https://localhost:8080/",
          "height": 744
        },
        "outputId": "0ea646a4-6cd8-42df-9f48-46991349e50e"
      },
      "outputs": [
        {
          "output_type": "display_data",
          "data": {
            "text/plain": [
              "<Figure size 1600x900 with 1 Axes>"
            ],
            "image/png": "[encoded data removed]"
          },
          "metadata": {}
        }
      ],
      "source": [
        "fig3 = plt.figure(figsize = (16,9))\n",
        "\n",
        "# bar chart\n",
        "plt.bar(classes, accuracy_classes, align = \"center\")\n",
        "\n",
        "# axis options\n",
        "plt.xlabel(\"Class\")\n",
        "plt.ylabel(\"Accuracy per class\")\n",
        "plt.xticks(range(0,100, 2))\n",
        "plt.yticks(range(0,105, 10))\n",
        "plt.ylim(0,105)\n",
        "#plt.grid()\n",
        "plt.title(\"Accuracy on the test set, per class\")\n",
        "\n",
        "# assign the values\n",
        "average_accuracy = 70\n",
        "lowest_class = 55\n",
        "highest_class = 95\n",
        "\n",
        "# lines\n",
        "plt.axhline(y = average_accuracy, color='m', linestyle='solid')\n",
        "plt.axhline(y = accuracy_classes[lowest_class], color='r', linestyle='--')\n",
        "plt.axhline(y = accuracy_classes[highest_class], color='k', linestyle='--')\n",
        "\n",
        "# dots\n",
        "plt.plot(lowest_class, accuracy_classes[lowest_class], 's', color='r')\n",
        "plt.plot(highest_class, accuracy_classes[highest_class], 's', color='k')\n",
        "\n",
        "# texts\n",
        "plt.text(0, average_accuracy+1, 'Average Accuracy = 70%', fontsize=15, color='m',\n",
        "         verticalalignment ='top', \n",
        "         horizontalalignment ='center',\n",
        "         bbox ={'facecolor':'white', \n",
        "                'pad':1})\n",
        "plt.text(0, accuracy_classes[lowest_class]-1, 'Lowest Class (55) Accuracy = 33%', fontsize=10, color='r',\n",
        "         verticalalignment ='top', \n",
        "         horizontalalignment ='center',\n",
        "         bbox ={'facecolor':'white', \n",
        "                'pad':1})\n",
        "plt.text(0, accuracy_classes[highest_class]+1, 'Highest Class (95) Accuracy = 95%', fontsize=10, color='k',\n",
        "         verticalalignment ='top', \n",
        "         horizontalalignment ='center',\n",
        "         bbox ={'facecolor':'white', \n",
        "                'pad':1})\n",
        "\n",
        "plt.savefig(\"Accuracies.png\")\n",
        "plt.show()"
      ]
    },
    {
      "cell_type": "markdown",
      "metadata": {
        "id": "hbAxCm5bvDCV"
      },
      "source": [
        "### Diffusion\n",
        "\n",
        "Last evaluation step: 11 images, generated with diffusion models and representing two animals together that belong to two different classes (dog and cat), are classified by the trained model."
      ]
    },
    {
      "cell_type": "markdown",
      "source": [
        "Download and unzip the dataset (11 images):"
      ],
      "metadata": {
        "id": "rv_bjgMJC0ee"
      }
    },
    {
      "cell_type": "code",
      "execution_count": 65,
      "metadata": {
        "id": "iZ9Wv10cvCi5",
        "colab": {
          "base_uri": "https://localhost:8080/"
        },
        "outputId": "75b4d886-e5a5-48d0-f262-5c709c886c85"
      },
      "outputs": [
        {
          "output_type": "stream",
          "name": "stdout",
          "text": [
            "Downloading...\n",
            "From: https://drive.google.com/uc?id=1OfD1CRHsSIei_VaYGfRG5A7Sbh6kNOU8\n",
            "To: /content/Testing_diffusion.zip\n",
            "\r  0% 0.00/853k [00:00<?, ?B/s]\r100% 853k/853k [00:00<00:00, 135MB/s]\n"
          ]
        }
      ],
      "source": [
        "!gdown \"1OfD1CRHsSIei_VaYGfRG5A7Sbh6kNOU8\"\n",
        "!unzip -q -n \"/content/Testing_diffusion.zip\" -d data"
      ]
    },
    {
      "cell_type": "markdown",
      "source": [
        "Import data and create data loader:"
      ],
      "metadata": {
        "id": "rhwuPLtjC3ud"
      }
    },
    {
      "cell_type": "code",
      "execution_count": 66,
      "metadata": {
        "id": "xyMSlgtvvSaH"
      },
      "outputs": [],
      "source": [
        "# read the dataset with the 11 generated images as a pandas dataframe\n",
        "df_testing_diff = pd.read_csv(\"/content/data/Testing_diffusion/testing_diffusion.txt\", sep = \" \", header = None,encoding=\"utf-16\")\n",
        "# drop the third column (NaN)\n",
        "df_testing_diff = df_testing_diff.drop([2], axis=1)\n",
        "# rename the columns\n",
        "df_testing_diff.columns = [\"image\", \"label\"]\n",
        "\n",
        "# convert in numpy array\n",
        "df_testing_diff = df_testing_diff.to_numpy()\n",
        "df_testing_diff[:, 1] = df_testing_diff[:, 1].astype(float)"
      ]
    },
    {
      "cell_type": "code",
      "execution_count": 67,
      "metadata": {
        "id": "75Z6tIVIvV2p",
        "colab": {
          "base_uri": "https://localhost:8080/"
        },
        "outputId": "1736290c-b6b6-4f5b-b302-6c875ee43f8d"
      },
      "outputs": [
        {
          "output_type": "stream",
          "name": "stdout",
          "text": [
            "11\n"
          ]
        }
      ],
      "source": [
        "# create train, validation and test set\n",
        "diff_set = TinyImageNetDataset(df_testing_diff,\"/content/data\",transform)\n",
        "\n",
        "diffloader = torch.utils.data.DataLoader(diff_set, batch_size = 1,\n",
        "                                          shuffle = False, num_workers = 0)\n",
        "\n",
        "# print the dimension of the train, validation and test set\n",
        "print(len(diffloader))"
      ]
    },
    {
      "cell_type": "markdown",
      "source": [
        "Evaluation of the images with the model:"
      ],
      "metadata": {
        "id": "2VJ-Y40GC_J_"
      }
    },
    {
      "cell_type": "code",
      "execution_count": 68,
      "metadata": {
        "id": "ifZOC_xBwIaX",
        "colab": {
          "base_uri": "https://localhost:8080/"
        },
        "outputId": "e9064154-0e04-439f-edf5-131ae9e12510"
      },
      "outputs": [
        {
          "output_type": "stream",
          "name": "stdout",
          "text": [
            "GroundTruth: from 37 to 42 \n",
            "\tPredicted: 38\n",
            "\tClasses: [38, 39, 45]\n",
            "\tProbs: [0.9834764  0.00629687 0.00515717]\n",
            "GroundTruth: from 37 to 42 \n",
            "\tPredicted: 39\n",
            "\tClasses: [39, 75, 37]\n",
            "\tProbs: [0.54049474 0.10752804 0.06935412]\n",
            "GroundTruth: from 37 to 42 \n",
            "\tPredicted: 40\n",
            "\tClasses: [40, 91, 37]\n",
            "\tProbs: [0.31348595 0.20663531 0.06580366]\n",
            "GroundTruth: from 37 to 42 \n",
            "\tPredicted: 91\n",
            "\tClasses: [91, 44, 37]\n",
            "\tProbs: [0.45587733 0.10437541 0.06799232]\n",
            "GroundTruth: from 37 to 42 \n",
            "\tPredicted: 37\n",
            "\tClasses: [37, 91, 43]\n",
            "\tProbs: [0.83521956 0.1010028  0.0061321 ]\n",
            "GroundTruth: from 37 to 42 \n",
            "\tPredicted: 38\n",
            "\tClasses: [38, 91, 37]\n",
            "\tProbs: [9.99077082e-01 3.59548372e-04 1.16420924e-04]\n",
            "GroundTruth: from 37 to 42 \n",
            "\tPredicted: 91\n",
            "\tClasses: [91, 75, 37]\n",
            "\tProbs: [0.96512425 0.02829202 0.00155958]\n",
            "GroundTruth: from 37 to 42 \n",
            "\tPredicted: 37\n",
            "\tClasses: [37, 38, 91]\n",
            "\tProbs: [0.9815978  0.00989348 0.00376644]\n",
            "GroundTruth: from 37 to 42 \n",
            "\tPredicted: 38\n",
            "\tClasses: [38, 37, 91]\n",
            "\tProbs: [0.97093403 0.00849947 0.00588541]\n",
            "GroundTruth: from 37 to 42 \n",
            "\tPredicted: 40\n",
            "\tClasses: [40, 37, 91]\n",
            "\tProbs: [0.5597466  0.2699512  0.09917182]\n",
            "GroundTruth: from 37 to 42 \n",
            "\tPredicted: 37\n",
            "\tClasses: [37, 40, 91]\n",
            "\tProbs: [0.99684024 0.00143857 0.00131646]\n"
          ]
        }
      ],
      "source": [
        "dataiter = iter(diffloader)\n",
        "images=[]\n",
        "classes = (np.arange(100))\n",
        "net.eval()\n",
        "for i in range(11): \n",
        "  image = next(dataiter)['image']\n",
        "  images.append(image)\n",
        "  with torch.no_grad():\n",
        "    image=image.to(DEVICE)\n",
        "    output=net(image)\n",
        "  _, pred= torch.max(output.cpu(), 1) #take the maximum of the argument\n",
        "  smax=torch.nn.Softmax(dim=1)(output.cpu()) # softmax converts this numbers to prob, the summ of alll vlaues is equal to 1 \n",
        "  top_p, top_class = smax.topk(3, dim = 1) # which are the top three prob predicted                  \n",
        "  top_class=[classes[id] for id in top_class.squeeze()]\n",
        "  print(f\"GroundTruth: from 37 to 42 \\n\\tPredicted: {classes[pred]}\\n\\tClasses: {top_class}\\n\\tProbs: {top_p.squeeze().numpy()}\" )"
      ]
    }
  ],
  "metadata": {
    "accelerator": "GPU",
    "colab": {
      "provenance": [],
      "gpuType": "T4"
    },
    "kernelspec": {
      "display_name": "Python 3",
      "name": "python3"
    },
    "language_info": {
      "name": "python"
    }
  },
  "nbformat": 4,
  "nbformat_minor": 0
}